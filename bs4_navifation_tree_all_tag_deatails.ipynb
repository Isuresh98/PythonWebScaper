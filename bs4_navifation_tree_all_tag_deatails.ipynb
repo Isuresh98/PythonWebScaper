{
 "cells": [
  {
   "cell_type": "code",
   "execution_count": 11,
   "id": "3a19b1ee",
   "metadata": {},
   "outputs": [
    {
     "name": "stdout",
     "output_type": "stream",
     "text": [
      "\n",
      "$10,005.00\n",
      "\n"
     ]
    }
   ],
   "source": [
    "from urllib.request import urlopen\n",
    "from bs4 import BeautifulSoup\n",
    "\n",
    "getHtml= urlopen(\"https://www.pythonscraping.com/pages/page3.html\")\n",
    "bsobjet =BeautifulSoup(getHtml,\"lxml\")\n",
    "\n",
    "     #find the website table of the children\n",
    "\n",
    "# for child in bsobjet.find(\"table\",{\"id\":\"giftList\"}).children:\n",
    "#   print(child)\n",
    "    \n",
    "    #find the details\n",
    "#for child2 in bsobjet.find(\"table\",{\"id\":\"giftList\"}).descendants:\n",
    " #   print(child2)\n",
    "    \n",
    "     #table row get informatin use under the code\n",
    "\n",
    "#for GetSibling in bsobjet.find(\"table\",{\"id\":\"giftList\"}).tr.next_siblings:\n",
    " #   print(GetSibling)\n",
    "    \n",
    "     #cheak the pereveas tag\n",
    "print (bsobjet.find(\"img\",{\"src\":\"../img/gifts/img3.jpg\"}).parent.previous_sibling.get_text())"
   ]
  },
  {
   "cell_type": "code",
   "execution_count": null,
   "id": "a52a69be",
   "metadata": {},
   "outputs": [],
   "source": []
  }
 ],
 "metadata": {
  "kernelspec": {
   "display_name": "Python 3",
   "language": "python",
   "name": "python3"
  },
  "language_info": {
   "codemirror_mode": {
    "name": "ipython",
    "version": 3
   },
   "file_extension": ".py",
   "mimetype": "text/x-python",
   "name": "python",
   "nbconvert_exporter": "python",
   "pygments_lexer": "ipython3",
   "version": "3.8.8"
  }
 },
 "nbformat": 4,
 "nbformat_minor": 5
}
