{
 "cells": [
  {
   "cell_type": "code",
   "execution_count": 13,
   "id": "977537cf",
   "metadata": {},
   "outputs": [
    {
     "name": "stdout",
     "output_type": "stream",
     "text": [
      "HTTP Error 404: Not Found\n"
     ]
    }
   ],
   "source": [
    "from urllib.request import urlopen\n",
    "from urllib.error import HTTPError\n",
    "from urllib.error import URLError\n",
    "\n",
    "try:\n",
    "    html= urlopen(\"https://getintopc.com/page1w\")\n",
    "    \n",
    "except HTTPError as a:\n",
    "    print(a)\n",
    "except URLError as a:\n",
    "    print(\"the server coud not be found!\")\n",
    "else:\n",
    "    print(\"it work\")"
   ]
  },
  {
   "cell_type": "code",
   "execution_count": null,
   "id": "f6628ff7",
   "metadata": {},
   "outputs": [],
   "source": []
  }
 ],
 "metadata": {
  "kernelspec": {
   "display_name": "Python 3",
   "language": "python",
   "name": "python3"
  },
  "language_info": {
   "codemirror_mode": {
    "name": "ipython",
    "version": 3
   },
   "file_extension": ".py",
   "mimetype": "text/x-python",
   "name": "python",
   "nbconvert_exporter": "python",
   "pygments_lexer": "ipython3",
   "version": "3.8.8"
  }
 },
 "nbformat": 4,
 "nbformat_minor": 5
}
